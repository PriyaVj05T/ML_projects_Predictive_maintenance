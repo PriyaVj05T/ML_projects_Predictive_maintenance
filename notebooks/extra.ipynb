{
 "cells": [
  {
   "cell_type": "code",
   "execution_count": 1,
   "id": "9f699ec3",
   "metadata": {},
   "outputs": [],
   "source": [
    "import os\n",
    "import logging\n",
    "from datetime import datetime"
   ]
  },
  {
   "cell_type": "code",
   "execution_count": 2,
   "id": "ff3363f3",
   "metadata": {},
   "outputs": [
    {
     "data": {
      "text/plain": [
       "datetime.datetime(2025, 6, 23, 16, 6, 51, 375494)"
      ]
     },
     "execution_count": 2,
     "metadata": {},
     "output_type": "execute_result"
    }
   ],
   "source": [
    "datetime.now()"
   ]
  },
  {
   "cell_type": "code",
   "execution_count": 3,
   "id": "87eece23",
   "metadata": {},
   "outputs": [
    {
     "data": {
      "text/plain": [
       "'06_23_2025_16_06_53.log'"
      ]
     },
     "execution_count": 3,
     "metadata": {},
     "output_type": "execute_result"
    }
   ],
   "source": [
    "f\"{datetime.now().strftime('%m_%d_%Y_%H_%M_%S')}.log\""
   ]
  },
  {
   "cell_type": "code",
   "execution_count": 4,
   "id": "a279590d",
   "metadata": {},
   "outputs": [
    {
     "data": {
      "text/plain": [
       "'d:\\\\My data\\\\Projects\\\\Machine-learning-projects\\\\notebooks'"
      ]
     },
     "execution_count": 4,
     "metadata": {},
     "output_type": "execute_result"
    }
   ],
   "source": [
    "os.getcwd()"
   ]
  },
  {
   "cell_type": "code",
   "execution_count": 5,
   "id": "a666546f",
   "metadata": {},
   "outputs": [],
   "source": [
    "log_path=os.path.join(os.getcwd(),\"logs\")"
   ]
  },
  {
   "cell_type": "code",
   "execution_count": 6,
   "id": "be7e6f19",
   "metadata": {},
   "outputs": [],
   "source": [
    "os.makedirs(log_path,exist_ok=True)"
   ]
  },
  {
   "cell_type": "code",
   "execution_count": 10,
   "id": "46f7ab74",
   "metadata": {},
   "outputs": [
    {
     "ename": "ModuleNotFoundError",
     "evalue": "No module named 'src'",
     "output_type": "error",
     "traceback": [
      "\u001b[1;31m---------------------------------------------------------------------------\u001b[0m",
      "\u001b[1;31mModuleNotFoundError\u001b[0m                       Traceback (most recent call last)",
      "Cell \u001b[1;32mIn[10], line 1\u001b[0m\n\u001b[1;32m----> 1\u001b[0m \u001b[38;5;28;01mimport\u001b[39;00m \u001b[38;5;21;01msrc\u001b[39;00m\n\u001b[0;32m      2\u001b[0m \u001b[38;5;28;01mfrom\u001b[39;00m \u001b[38;5;21;01msrc\u001b[39;00m\u001b[38;5;21;01m.\u001b[39;00m\u001b[38;5;21;01mFaultDetectionTPIM\u001b[39;00m\u001b[38;5;21;01m.\u001b[39;00m\u001b[38;5;21;01mlogger\u001b[39;00m \u001b[38;5;28;01mimport\u001b[39;00m logging\n",
      "\u001b[1;31mModuleNotFoundError\u001b[0m: No module named 'src'"
     ]
    }
   ],
   "source": [
    "import src\n",
    "from src.FaultDetectionTPIM.logger import logging"
   ]
  },
  {
   "cell_type": "code",
   "execution_count": 11,
   "id": "57afd523",
   "metadata": {},
   "outputs": [],
   "source": [
    "import sys\n",
    "sys.path.append(\"D:/My data/Projects/MACHINE-LEARNING-PROJECTS\")  # 👈 set to the folder that contains `src`\n",
    "from src.FaultDetectionTPIM.logger import logging"
   ]
  },
  {
   "cell_type": "code",
   "execution_count": 38,
   "id": "9fe4b4c2",
   "metadata": {},
   "outputs": [],
   "source": [
    "from src.FaultDetectionTPIM.logger import logging"
   ]
  },
  {
   "cell_type": "code",
   "execution_count": 12,
   "id": "941285e1",
   "metadata": {},
   "outputs": [
    {
     "name": "stderr",
     "output_type": "stream",
     "text": [
      "[2025-06-23 16:09:41,199] 1 root -INFO -Testing under process\n"
     ]
    }
   ],
   "source": [
    "logging.info(\"Testing under process\")"
   ]
  },
  {
   "cell_type": "code",
   "execution_count": 25,
   "id": "b65677ae",
   "metadata": {},
   "outputs": [
    {
     "data": {
      "text/plain": [
       "<module 'logging' from 'c:\\\\Users\\\\UT\\\\anaconda3\\\\Lib\\\\logging\\\\__init__.py'>"
      ]
     },
     "execution_count": 25,
     "metadata": {},
     "output_type": "execute_result"
    }
   ],
   "source": [
    "import logging\n",
    "from importlib import reload\n",
    "\n",
    "reload(logging)"
   ]
  },
  {
   "cell_type": "code",
   "execution_count": 31,
   "id": "96bd2d70",
   "metadata": {},
   "outputs": [],
   "source": [
    "import sys\n",
    "sys.path.append(\"D:/My data/Projects/MACHINE-LEARNING-PROJECTS\")  # 👈 set to the folder that contains `src`\n",
    "from src.FaultDetectionTPIM.logger import logging"
   ]
  },
  {
   "cell_type": "code",
   "execution_count": 32,
   "id": "77410c0e",
   "metadata": {},
   "outputs": [],
   "source": [
    "logging.info(\"Testing under process\")"
   ]
  },
  {
   "cell_type": "code",
   "execution_count": 13,
   "id": "28b3c8ef",
   "metadata": {},
   "outputs": [
    {
     "name": "stderr",
     "output_type": "stream",
     "text": [
      "[2025-06-23 16:10:18,582] 4 root -INFO -✅ This message will be logged to file and console.\n"
     ]
    }
   ],
   "source": [
    "from src.FaultDetectionTPIM import logger\n",
    "import logging\n",
    "\n",
    "logging.info(\"✅ This message will be logged to file and console.\")"
   ]
  },
  {
   "cell_type": "code",
   "execution_count": 14,
   "id": "091ec07c",
   "metadata": {},
   "outputs": [],
   "source": [
    "class CustomException(Exception):\n",
    "    def __init__(self, error_message, error_details: sys):\n",
    "        super().__init__(error_message)\n",
    "        self.error_message = error_message\n",
    "\n",
    "        # unpacking of traceback info\n",
    "        _, _, exc_tb = error_details.exc_info()\n",
    "\n",
    "        # attribute names\n",
    "        self.lineno = exc_tb.tb_lineno\n",
    "        self.filename = exc_tb.tb_frame.f_code.co_filename\n",
    "\n",
    "    def __str__(self):\n",
    "        # string formatting using correct attributes\n",
    "        return f\"Error occurred in Python script [{self.filename}], line number [{self.lineno}], error message [{self.error_message}]\""
   ]
  },
  {
   "cell_type": "code",
   "execution_count": 15,
   "id": "6d458b9d",
   "metadata": {},
   "outputs": [],
   "source": [
    "import sys"
   ]
  },
  {
   "cell_type": "code",
   "execution_count": 16,
   "id": "0dca806b",
   "metadata": {},
   "outputs": [
    {
     "name": "stdout",
     "output_type": "stream",
     "text": [
      "division by zero\n"
     ]
    }
   ],
   "source": [
    "try:\n",
    "        a=1/0\n",
    "\n",
    "except Exception as e :\n",
    "       print(e)\n",
    "\n"
   ]
  },
  {
   "cell_type": "code",
   "execution_count": 17,
   "id": "3472c6bb",
   "metadata": {},
   "outputs": [
    {
     "data": {
      "text/plain": [
       "(None, None, None)"
      ]
     },
     "execution_count": 17,
     "metadata": {},
     "output_type": "execute_result"
    }
   ],
   "source": [
    "sys.exc_info()"
   ]
  },
  {
   "cell_type": "code",
   "execution_count": 18,
   "id": "7b43645e",
   "metadata": {},
   "outputs": [
    {
     "name": "stdout",
     "output_type": "stream",
     "text": [
      "division by zero\n",
      "(<class 'ZeroDivisionError'>, ZeroDivisionError('division by zero'), <traceback object at 0x00000168BD7EF780>)\n"
     ]
    }
   ],
   "source": [
    "try:\n",
    "        a=1/0\n",
    "\n",
    "except Exception as e :\n",
    "       print(e)\n",
    "       print(sys.exc_info())"
   ]
  },
  {
   "cell_type": "code",
   "execution_count": 19,
   "id": "f9c9b5f5",
   "metadata": {},
   "outputs": [
    {
     "name": "stdout",
     "output_type": "stream",
     "text": [
      "(<class 'ZeroDivisionError'>, ZeroDivisionError('division by zero'), <traceback object at 0x00000168BD7ECFC0>)\n",
      "2\n",
      "C:\\Users\\UT\\AppData\\Local\\Temp\\ipykernel_11456\\3340380968.py\n",
      "division by zero\n"
     ]
    }
   ],
   "source": [
    "try:\n",
    "        a=1/0\n",
    "\n",
    "except Exception as e :\n",
    "       _, _, exc_tb = sys.exc_info()\n",
    "\n",
    "       print(sys.exc_info())\n",
    "       print(exc_tb.tb_lineno)\n",
    "       print(exc_tb.tb_frame.f_code.co_filename)\n",
    "       print(e)"
   ]
  }
 ],
 "metadata": {
  "kernelspec": {
   "display_name": "base",
   "language": "python",
   "name": "python3"
  },
  "language_info": {
   "codemirror_mode": {
    "name": "ipython",
    "version": 3
   },
   "file_extension": ".py",
   "mimetype": "text/x-python",
   "name": "python",
   "nbconvert_exporter": "python",
   "pygments_lexer": "ipython3",
   "version": "3.12.3"
  }
 },
 "nbformat": 4,
 "nbformat_minor": 5
}
